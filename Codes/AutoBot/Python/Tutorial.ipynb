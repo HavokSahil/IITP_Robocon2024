{
 "cells": [
  {
   "attachments": {},
   "cell_type": "markdown",
   "id": "5315e055-a446-495c-949d-cf1bf769a194",
   "metadata": {},
   "source": [
    "# Autobot Module Tutorials\n",
    "This module is an abstraction\n",
    "of all the methods and functionality achievable with the bot. To access it, one have to just do some function calls.\n",
    "\n",
    "There are following three submodules in it:\n",
    "- **Driver** - It contains all actuation methods (like: driving bot, running stepper)\n",
    "- **BallDetector** - Self explanatory\n",
    "- **SiloDetector** - Self explanatory\n",
    "\n",
    "Following are the tutorials, on how to use **Autobot Module**."
   ]
  },
  {
   "cell_type": "markdown",
   "id": "0171fd1c-4d82-4e2d-b64f-55e3d48e5a86",
   "metadata": {},
   "source": [
    "## Using Driver Module\n",
    "This tutorial will show how to use **Driver Class**. \\\n",
    "It sends actuating signals to the Autobot(eg: Drive, Run Stepper Motor, ...)"
   ]
  },
  {
   "cell_type": "code",
   "execution_count": 3,
   "id": "303c52c0-c4ee-4d3a-afaf-004fa8ccd31b",
   "metadata": {},
   "outputs": [],
   "source": [
    "from Autobot.Driver import Driver\n",
    "\n",
    "serial_port = '/dev/ttyACM0' # Set your serial port address\n",
    "baud_rate = 115200  # Set the baud rate\n",
    "\n",
    "driver_instance = Driver() # Initialise the driver object\n"
   ]
  },
  {
   "cell_type": "code",
   "execution_count": null,
   "id": "45d5e49a-32c6-4bde-a0d2-e8bec514e5e7",
   "metadata": {},
   "outputs": [],
   "source": [
    "# The line below will give error if serial port is not found\n",
    "driver_instance.initialiseSerial(address=serial_port, baudrate=baud_rate) # Initialise the serial communication\n"
   ]
  },
  {
   "cell_type": "markdown",
   "id": "27904d22-5d9a-42c8-a0b9-ef36532c9dc7",
   "metadata": {},
   "source": [
    "### Following methods Available with driver"
   ]
  },
  {
   "cell_type": "code",
   "execution_count": 4,
   "id": "5559a536-046f-492f-be5a-e2d72f334469",
   "metadata": {},
   "outputs": [],
   "source": [
    "driver_instance.moveForward()\n",
    "driver_instance.rotClock()\n",
    "driver_instance.rotAClock()\n",
    "\n",
    "driver_instance.cameraDown()\n",
    "driver_instance.cameraUp()\n",
    "\n",
    "driver_instance.triggerGripper()\n",
    "driver_instance.triggerRelease()\n",
    "\n",
    "driver_instance.stop()\n",
    "driver_instance.lowerSpeed()\n",
    "driver_instance.upperSpeed()\n",
    "\n",
    "driver_instance.setClutch(False) # On True all movements(Forward, Rotation) doesn't happen"
   ]
  },
  {
   "cell_type": "markdown",
   "id": "5f070b40-a95e-48a3-aab9-7db1a28f78af",
   "metadata": {},
   "source": [
    "#### Example Code:"
   ]
  },
  {
   "cell_type": "code",
   "execution_count": null,
   "id": "da3e8bba-1937-4fb6-8869-28c69c81cfd1",
   "metadata": {},
   "outputs": [],
   "source": [
    "def focusMode(driverObj):\n",
    "    driverObj.cameraDown()\n",
    "    driverObj.lowerSpeed()\n",
    "    driverObj.triggerRelease();\n",
    "\n",
    "def searchMode(driverObj):\n",
    "    driverObj.cameraUp()\n",
    "    driverObj.upperSpeed()\n",
    "\n",
    "def transitionMode(driverObj):\n",
    "    driverObj.setClutch(True)\n",
    "\n",
    "def activeMode(driverObj):\n",
    "    driverObj.setClutch(False)\n",
    "\n",
    "focusMode(driver_instance) # Set Focus Mode\n",
    "searchMode(driver_instance) # Set Search Mode\n",
    "transitionMode(driver_instance) # Set Transition Mode (All motion should seize, hence clutch is applied as in real world geared vehicles)\n",
    "activeMode(driver_instance) # Set Active Mode"
   ]
  },
  {
   "cell_type": "markdown",
   "id": "0b8a0b3f-addd-4603-96f6-9838db87993b",
   "metadata": {},
   "source": [
    "## Using Ball Detector Module"
   ]
  },
  {
   "cell_type": "code",
   "execution_count": 1,
   "id": "ffbdbe54-68d4-4a6a-a465-e149538f835a",
   "metadata": {
    "scrolled": true
   },
   "outputs": [],
   "source": [
    "from Autobot.BallDetector import BallDetector\n",
    "import cv2\n",
    "\n",
    "weight_file_path = 'Resource/ball.pt' # Choose weight file for ball detection model (YOLO)\n",
    "ballDetector = BallDetector(weight_file_path) # Initialise ball detector object\n",
    "ballDetector.setEcho(True) # Set Logging Echo ('True':Output will appear in terminal else if 'OFF': in just FILE)\n",
    "\n",
    "SYSTEM_CAM_INDEX = 0\n",
    "DROID_CAM_INDEX = 1\n",
    "\n",
    "cap = cv2.VideoCapture(SYSTEM_CAM_INDEX) # Set opencv video feed\n",
    "\n",
    "cap.set(cv2.CAP_PROP_FRAME_WIDTH, 640) # Set width of the input image to 640 px\n",
    "cap.set(cv2.CAP_PROP_FRAME_HEIGHT, 480) # Set height of the input image to 480 px\n",
    "\n",
    "def main():\n",
    "    while True:\n",
    "        ret, frame = cap.read() # Read the frame\n",
    "        if not ret:\n",
    "                print(\"Error: Couldn't capture a frame.\")\n",
    "                continue;\n",
    "    \n",
    "        count, pos, frame = ballDetector.getPrediction(frame) # Get prediction data from the frame\n",
    "        # Note that the pos contains the position of most confident nearest ball\n",
    "        if (count==0):\n",
    "            ballDetector.logMessage(\"No Ball Detected\")\n",
    "            message = ballDetector.classifyMissingBall() # Classify missing condition based on last stored position\n",
    "            ballDetector.logMessage(message) # Log the message to terminal and log file\n",
    "        else:\n",
    "            message = ballDetector.classifyBallPresence(pos[0], pos[1]) # Classify the current position of most confident ball\n",
    "            ballDetector.logMessage(message)\n",
    "    \n",
    "        cv2.imshow(\"Feed\", frame)\n",
    "        if cv2.waitKey(1) & 0xFF == ord('q'):\n",
    "                break\n",
    "    "
   ]
  },
  {
   "cell_type": "markdown",
   "id": "4bd34960-a1fb-4049-ba43-4cb258fa81fd",
   "metadata": {},
   "source": [
    "### Following Methods are Available with Ball Detector Object\n",
    "> You can read the details of the methods from the code itself. I have tried to be descriptive enough.\\\n",
    "__Autobot/BallDetector.py, Autobot/SiloDetector.py__"
   ]
  },
  {
   "cell_type": "code",
   "execution_count": 2,
   "id": "e2244ff9-3e7b-4a80-a7ca-d8639240cc0c",
   "metadata": {},
   "outputs": [
    {
     "name": "stdout",
     "output_type": "stream",
     "text": [
      "WARNING ⚠️ 'source' is missing. Using 'source=/home/sahil/Documents/ML/lib/python3.10/site-packages/ultralytics/assets'.\n",
      "\n",
      "image 1/2 /home/sahil/Documents/ML/lib/python3.10/site-packages/ultralytics/assets/bus.jpg: 640x480 (no detections), 219.4ms\n",
      "image 2/2 /home/sahil/Documents/ML/lib/python3.10/site-packages/ultralytics/assets/zidane.jpg: 384x640 (no detections), 180.6ms\n",
      "Speed: 5.1ms preprocess, 200.0ms inference, 1.0ms postprocess per image at shape (1, 3, 384, 640)\n"
     ]
    },
    {
     "name": "stderr",
     "output_type": "stream",
     "text": [
      "2024-05-18 20:38:01 - autobot_logger - INFO - Vhagar is Largest dragon in the World\n"
     ]
    },
    {
     "data": {
      "text/plain": [
       "False"
      ]
     },
     "execution_count": 2,
     "metadata": {},
     "output_type": "execute_result"
    }
   ],
   "source": [
    "frame = None\n",
    "ballDetector.getPrediction(frame)\n",
    "ballDetector.classifyMissingBall()\n",
    "ballDetector.classifyBallPresence(x=1, y=450)\n",
    "ballDetector.eraseMemory()\n",
    "ballDetector.setEcho(False)\n",
    "ballDetector.logMessage(message=\"Vhagar is Largest dragon in the World\")\n",
    "ballDetector.focusAligned(x=100, y=200)"
   ]
  },
  {
   "cell_type": "markdown",
   "id": "9280a495-50ed-48db-a7f5-7ecaed157085",
   "metadata": {},
   "source": [
    "#### Example Code:"
   ]
  },
  {
   "cell_type": "code",
   "execution_count": 6,
   "id": "e2b114c5-d57d-4443-a14c-48fc5dc61f9f",
   "metadata": {},
   "outputs": [],
   "source": [
    "def catchBallIfInRange(ballDetectorObj, frame): # Example function to grab ball when it is in range\n",
    "    count, pos, frame = ballDetectorObj.getPrediction(frame)\n",
    "    if (count):\n",
    "        if (ballDetectorObj.classifyBallPresence(pos[0], pos[1])==\"CENTRE\"):\n",
    "            if (ballDetectorObj.focusAligned(pos[0], pos[1])):\n",
    "                driver_instance.setClutch(True)\n",
    "                driver_instance.triggerGripper()\n",
    "                driver_instance.cameraUp()\n",
    "                "
   ]
  },
  {
   "cell_type": "markdown",
   "id": "da9d5fd3-13a7-4f78-a035-d7d9f6689ba4",
   "metadata": {},
   "source": [
    "## Using Silo Detector Module"
   ]
  },
  {
   "cell_type": "code",
   "execution_count": 1,
   "id": "b78e172f-c842-474e-aeb4-de4eebb0ec6f",
   "metadata": {},
   "outputs": [],
   "source": [
    "from Autobot.SiloDetector import SiloDetector\n",
    "import cv2\n",
    "\n",
    "weight_file_path = 'Resource/silo.pt' # Choose weight file for Silo Detection Model (YOLO)\n",
    "siloDetector = SiloDetector(weight_file_path) # Initialise Silo Detector Object\n",
    "siloDetector.setEcho(True) # Set Logging Echo ('True':Output will appear in terminal else if 'OFF': in just FILE)\n",
    "\n",
    "SYSTEM_CAM_INDEX = 0\n",
    "DROID_CAM_INDEX = 1\n",
    "\n",
    "cap = cv2.VideoCapture(SYSTEM_CAM_INDEX) # Set opencv video feed\n",
    "\n",
    "cap.set(cv2.CAP_PROP_FRAME_WIDTH, 640) # Set width of the input image to 640 px\n",
    "cap.set(cv2.CAP_PROP_FRAME_HEIGHT, 480) # Set height of the input image to 480 px\n",
    "\n",
    "def main():\n",
    "    while True:\n",
    "        ret, frame = cap.read() # Read the frame\n",
    "        if not ret:\n",
    "            print(\"Error: Couldn't capture a frame.\")\n",
    "            continue;\n",
    "        \n",
    "        coord = siloDetector.getLocOptimalSilo(frame) # It returns the image coordinate of centre of best silo\n",
    "        \n",
    "        if (coord):\n",
    "            cx, cy = coord\n",
    "            siloDetector.logMessage(f\"({cx}, {cy})\")\n",
    "        \n",
    "        cv2.imshow(\"Feed\", frame)\n",
    "        if cv2.waitKey(1) & 0xFF == ord('q'):\n",
    "                    break"
   ]
  },
  {
   "cell_type": "markdown",
   "id": "0a8af76d-2a4d-4b6c-8a62-0e48c750d3ae",
   "metadata": {},
   "source": [
    "> You can read more about it in code itself. As I have said its very descriptive and should be easy to understand."
   ]
  },
  {
   "cell_type": "markdown",
   "id": "595757db-e25e-4ea8-8050-9bb729ea9bf0",
   "metadata": {},
   "source": [
    "## Task"
   ]
  },
  {
   "cell_type": "markdown",
   "id": "90a7d216-298a-4fea-ab98-9665619672a8",
   "metadata": {},
   "source": [
    "Try to Implement test.py with the new Autobot Module using its methods."
   ]
  }
 ],
 "metadata": {
  "kernelspec": {
   "display_name": "Python 3 (ipykernel)",
   "language": "python",
   "name": "python3"
  },
  "language_info": {
   "codemirror_mode": {
    "name": "ipython",
    "version": 3
   },
   "file_extension": ".py",
   "mimetype": "text/x-python",
   "name": "python",
   "nbconvert_exporter": "python",
   "pygments_lexer": "ipython3",
   "version": "3.10.12"
  }
 },
 "nbformat": 4,
 "nbformat_minor": 5
}
